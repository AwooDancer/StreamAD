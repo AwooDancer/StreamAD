{
 "metadata": {
  "language_info": {
   "codemirror_mode": {
    "name": "ipython",
    "version": 3
   },
   "file_extension": ".py",
   "mimetype": "text/x-python",
   "name": "python",
   "nbconvert_exporter": "python",
   "pygments_lexer": "ipython3",
   "version": "3.7.9-final"
  },
  "orig_nbformat": 2,
  "kernelspec": {
   "name": "python3",
   "display_name": "Python 3",
   "language": "python"
  }
 },
 "nbformat": 4,
 "nbformat_minor": 2,
 "cells": [
  {
   "source": [
    "# Example usage\n",
    "\n",
    "This the the example usage of StreamAD."
   ],
   "cell_type": "markdown",
   "metadata": {}
  },
  {
   "cell_type": "code",
   "execution_count": 1,
   "metadata": {},
   "outputs": [],
   "source": [
    "import os\n",
    "import sys\n",
    "\n",
    "sys.path.append(os.path.abspath(os.path.join(os.path.dirname(\"__file__\"), \"../..\")))\n",
    "\n",
    "import numpy as np \n",
    "import pandas as pd \n",
    "from sklearn.datasets import load_iris\n",
    "from streamad.util import StreamGenerator\n",
    "from streamad.model import RandomDetector\n",
    "from streamad.util import StreamStatistic\n",
    "\n",
    "ds = load_iris()"
   ]
  },
  {
   "source": [
    "Load numpy data to StreamGenerator and get random results from RandomDetector. "
   ],
   "cell_type": "markdown",
   "metadata": {}
  },
  {
   "cell_type": "code",
   "execution_count": 2,
   "metadata": {
    "tags": []
   },
   "outputs": [
    {
     "output_type": "stream",
     "name": "stdout",
     "text": [
      " Anomaly score: 0.8013135736168802, predict label 0"
     ]
    }
   ],
   "source": [
    "\n",
    "data = ds.data\n",
    "label = ds.target\n",
    "stream = StreamGenerator(data,shuffle=True)\n",
    "\n",
    "for X in stream.iter_item():\n",
    "    model = RandomDetector()\n",
    "    model.fit(X)\n",
    "    score = model.score(X)\n",
    "    label = model.predict(X)\n",
    "    print(\"\\r Anomaly score: {}, predict label {}\".format(score, label), end=\"\",flush=\"True\")\n"
   ]
  },
  {
   "source": [
    "Load pandas Dataframe to StreamGenerator and get random results from RandomDetector."
   ],
   "cell_type": "markdown",
   "metadata": {}
  },
  {
   "cell_type": "code",
   "execution_count": 3,
   "metadata": {},
   "outputs": [
    {
     "output_type": "stream",
     "name": "stdout",
     "text": [
      " Anomaly score: 0.20901237823719931, predict label 0"
     ]
    }
   ],
   "source": [
    "\n",
    "data = pd.DataFrame(ds.data,columns=ds.feature_names) \n",
    "stream = StreamGenerator(data,shuffle=True)\n",
    "\n",
    "for X in stream.iter_item():\n",
    "    model = RandomDetector()\n",
    "    model.fit(X)\n",
    "    score = model.score(X)\n",
    "    label = model.predict(X)\n",
    "    print(\"\\r Anomaly score: {}, predict label {}\".format(score, label), end=\"\",flush=\"True\")\n",
    "\n"
   ]
  }
 ]
}