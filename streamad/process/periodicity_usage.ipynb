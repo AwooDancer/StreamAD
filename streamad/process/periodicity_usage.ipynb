{
 "cells": [
  {
   "cell_type": "markdown",
   "metadata": {},
   "source": [
    "# Periodicity\n",
    "\n",
    "This can help you extract the multi-periodicity of the time series data."
   ]
  },
  {
   "cell_type": "markdown",
   "metadata": {},
   "source": [
    "## Theta-method for periodicity detection\n",
    "\n",
    "It uses the k-lags for ACF to calculate the periodicity."
   ]
  },
  {
   "cell_type": "code",
   "execution_count": 60,
   "metadata": {},
   "outputs": [
    {
     "name": "stdout",
     "output_type": "stream",
     "text": [
      "Detected periodicity 39, ground true periodicity 39\n"
     ]
    }
   ],
   "source": [
    "import numpy as np\n",
    "import plotly.express as px\n",
    "from streamad.process import ThetaMultiPeriodicity\n",
    "\n",
    "\n",
    "# Customized data length \n",
    "length = 200\n",
    "# Amplitude\n",
    "A = np.random.randint(30, 50)\n",
    "# Phi\n",
    "phi = np.random.randint(0, 30)\n",
    "# Periodictiy\n",
    "T = np.random.randint(30,40)\n",
    "# Timestep\n",
    "t = np.arange(length)\n",
    "\n",
    "# data\n",
    "ds = A * np.sin(2 * np.pi * t/ T + 2 * np.pi * phi/T)\n",
    "\n",
    "preiodicity_detector = ThetaMultiPeriodicity(pval=0.05, max_lag=None)\n",
    "periods = preiodicity_detector.get_multi_periodicity(ds)\n",
    "\n",
    "if periods:\n",
    "    print(\"Detected periodicity {}, ground true periodicity {}\".format(periods[0], T))\n",
    "else:\n",
    "    print(\"No periodicity detected, ground true periodicity {}\".format(T))\n"
   ]
  }
 ],
 "metadata": {
  "kernelspec": {
   "display_name": "Python 3.9.12 ('streamad')",
   "language": "python",
   "name": "python3"
  },
  "language_info": {
   "codemirror_mode": {
    "name": "ipython",
    "version": 3
   },
   "file_extension": ".py",
   "mimetype": "text/x-python",
   "name": "python",
   "nbconvert_exporter": "python",
   "pygments_lexer": "ipython3",
   "version": "3.9.12"
  },
  "orig_nbformat": 4,
  "vscode": {
   "interpreter": {
    "hash": "0929cc61c31530b0dd93f4de65929aaf6e8458bcea2636b14bc2eb1d87a859e5"
   }
  }
 },
 "nbformat": 4,
 "nbformat_minor": 2
}
